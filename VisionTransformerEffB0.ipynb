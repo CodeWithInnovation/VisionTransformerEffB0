{
  "nbformat": 4,
  "nbformat_minor": 0,
  "metadata": {
    "colab": {
      "provenance": [],
      "gpuType": "T4"
    },
    "kernelspec": {
      "name": "python3",
      "display_name": "Python 3"
    },
    "language_info": {
      "name": "python"
    },
    "accelerator": "GPU"
  },
  "cells": [
    {
      "cell_type": "code",
      "execution_count": null,
      "metadata": {
        "id": "vYrA8HVyrfbJ"
      },
      "outputs": [],
      "source": [
        "!git clone https://github.com/CodeWithInnovation/VisionTransformerEffB0.git"
      ]
    },
    {
      "cell_type": "code",
      "source": [
        "%cd VisionTransformerEffB0\n",
        "!pip install -r requirements.txt  # install"
      ],
      "metadata": {
        "id": "aDWgOYtfrkbO"
      },
      "execution_count": null,
      "outputs": []
    },
    {
      "cell_type": "code",
      "source": [
        "!python train.py -c binary\n"
      ],
      "metadata": {
        "id": "5-0R-009rnl6"
      },
      "execution_count": null,
      "outputs": []
    },
    {
      "cell_type": "code",
      "source": [
        "!python test.py -m models/model_fold_1.h5 -c binary -f 1\n"
      ],
      "metadata": {
        "id": "QA4MGTnlsya_"
      },
      "execution_count": null,
      "outputs": []
    }
  ]
}